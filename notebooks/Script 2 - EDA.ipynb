{
 "cells": [
  {
   "cell_type": "markdown",
   "metadata": {},
   "source": [
    "# Exploratory Data Analysis"
   ]
  },
  {
   "cell_type": "markdown",
   "metadata": {},
   "source": [
    "The main objectives for this notebook are:\n",
    "- Perform univariate analysis\n",
    "- Investigate the relationships between features\n",
    "- Highlight insights that can inform the stakeholders' decisions\n",
    "- Go through the next steps that will be used in feature engineering and machine learning"
   ]
  },
  {
   "cell_type": "code",
   "execution_count": 3,
   "metadata": {},
   "outputs": [],
   "source": [
    "# Import libraries\n",
    "import numpy as np\n",
    "import matplotlib.pyplot as plt\n",
    "import seaborn as sns\n",
    "import pandas as pd"
   ]
  },
  {
   "cell_type": "code",
   "execution_count": 4,
   "metadata": {},
   "outputs": [
    {
     "data": {
      "text/html": [
       "<div>\n",
       "<style scoped>\n",
       "    .dataframe tbody tr th:only-of-type {\n",
       "        vertical-align: middle;\n",
       "    }\n",
       "\n",
       "    .dataframe tbody tr th {\n",
       "        vertical-align: top;\n",
       "    }\n",
       "\n",
       "    .dataframe thead th {\n",
       "        text-align: right;\n",
       "    }\n",
       "</style>\n",
       "<table border=\"1\" class=\"dataframe\">\n",
       "  <thead>\n",
       "    <tr style=\"text-align: right;\">\n",
       "      <th></th>\n",
       "      <th>call_fails</th>\n",
       "      <th>complained</th>\n",
       "      <th>sub_length</th>\n",
       "      <th>charge_amt</th>\n",
       "      <th>seconds_used</th>\n",
       "      <th>usage_freq</th>\n",
       "      <th>sms_freq</th>\n",
       "      <th>unique_contacts_called</th>\n",
       "      <th>tariff_plan</th>\n",
       "      <th>status</th>\n",
       "      <th>age</th>\n",
       "      <th>cust_value</th>\n",
       "      <th>churn</th>\n",
       "    </tr>\n",
       "  </thead>\n",
       "  <tbody>\n",
       "    <tr>\n",
       "      <th>0</th>\n",
       "      <td>8</td>\n",
       "      <td>False</td>\n",
       "      <td>38</td>\n",
       "      <td>0</td>\n",
       "      <td>4370</td>\n",
       "      <td>71</td>\n",
       "      <td>5</td>\n",
       "      <td>17</td>\n",
       "      <td>Prepaid</td>\n",
       "      <td>Active</td>\n",
       "      <td>30</td>\n",
       "      <td>197.640</td>\n",
       "      <td>False</td>\n",
       "    </tr>\n",
       "    <tr>\n",
       "      <th>1</th>\n",
       "      <td>0</td>\n",
       "      <td>False</td>\n",
       "      <td>39</td>\n",
       "      <td>0</td>\n",
       "      <td>318</td>\n",
       "      <td>5</td>\n",
       "      <td>7</td>\n",
       "      <td>4</td>\n",
       "      <td>Prepaid</td>\n",
       "      <td>Inactive</td>\n",
       "      <td>25</td>\n",
       "      <td>46.035</td>\n",
       "      <td>False</td>\n",
       "    </tr>\n",
       "    <tr>\n",
       "      <th>2</th>\n",
       "      <td>10</td>\n",
       "      <td>False</td>\n",
       "      <td>37</td>\n",
       "      <td>0</td>\n",
       "      <td>2453</td>\n",
       "      <td>60</td>\n",
       "      <td>359</td>\n",
       "      <td>24</td>\n",
       "      <td>Prepaid</td>\n",
       "      <td>Active</td>\n",
       "      <td>30</td>\n",
       "      <td>1536.520</td>\n",
       "      <td>False</td>\n",
       "    </tr>\n",
       "    <tr>\n",
       "      <th>3</th>\n",
       "      <td>10</td>\n",
       "      <td>False</td>\n",
       "      <td>38</td>\n",
       "      <td>0</td>\n",
       "      <td>4198</td>\n",
       "      <td>66</td>\n",
       "      <td>1</td>\n",
       "      <td>35</td>\n",
       "      <td>Prepaid</td>\n",
       "      <td>Active</td>\n",
       "      <td>15</td>\n",
       "      <td>240.020</td>\n",
       "      <td>False</td>\n",
       "    </tr>\n",
       "    <tr>\n",
       "      <th>4</th>\n",
       "      <td>3</td>\n",
       "      <td>False</td>\n",
       "      <td>38</td>\n",
       "      <td>0</td>\n",
       "      <td>2393</td>\n",
       "      <td>58</td>\n",
       "      <td>2</td>\n",
       "      <td>33</td>\n",
       "      <td>Prepaid</td>\n",
       "      <td>Active</td>\n",
       "      <td>15</td>\n",
       "      <td>145.805</td>\n",
       "      <td>False</td>\n",
       "    </tr>\n",
       "    <tr>\n",
       "      <th>...</th>\n",
       "      <td>...</td>\n",
       "      <td>...</td>\n",
       "      <td>...</td>\n",
       "      <td>...</td>\n",
       "      <td>...</td>\n",
       "      <td>...</td>\n",
       "      <td>...</td>\n",
       "      <td>...</td>\n",
       "      <td>...</td>\n",
       "      <td>...</td>\n",
       "      <td>...</td>\n",
       "      <td>...</td>\n",
       "      <td>...</td>\n",
       "    </tr>\n",
       "    <tr>\n",
       "      <th>3145</th>\n",
       "      <td>21</td>\n",
       "      <td>False</td>\n",
       "      <td>19</td>\n",
       "      <td>2</td>\n",
       "      <td>6697</td>\n",
       "      <td>147</td>\n",
       "      <td>92</td>\n",
       "      <td>44</td>\n",
       "      <td>Contractual</td>\n",
       "      <td>Active</td>\n",
       "      <td>25</td>\n",
       "      <td>721.980</td>\n",
       "      <td>False</td>\n",
       "    </tr>\n",
       "    <tr>\n",
       "      <th>3146</th>\n",
       "      <td>17</td>\n",
       "      <td>False</td>\n",
       "      <td>17</td>\n",
       "      <td>1</td>\n",
       "      <td>9237</td>\n",
       "      <td>177</td>\n",
       "      <td>80</td>\n",
       "      <td>42</td>\n",
       "      <td>Prepaid</td>\n",
       "      <td>Active</td>\n",
       "      <td>55</td>\n",
       "      <td>261.210</td>\n",
       "      <td>False</td>\n",
       "    </tr>\n",
       "    <tr>\n",
       "      <th>3147</th>\n",
       "      <td>13</td>\n",
       "      <td>False</td>\n",
       "      <td>18</td>\n",
       "      <td>4</td>\n",
       "      <td>3157</td>\n",
       "      <td>51</td>\n",
       "      <td>38</td>\n",
       "      <td>21</td>\n",
       "      <td>Prepaid</td>\n",
       "      <td>Active</td>\n",
       "      <td>30</td>\n",
       "      <td>280.320</td>\n",
       "      <td>False</td>\n",
       "    </tr>\n",
       "    <tr>\n",
       "      <th>3148</th>\n",
       "      <td>7</td>\n",
       "      <td>False</td>\n",
       "      <td>11</td>\n",
       "      <td>2</td>\n",
       "      <td>4695</td>\n",
       "      <td>46</td>\n",
       "      <td>222</td>\n",
       "      <td>12</td>\n",
       "      <td>Prepaid</td>\n",
       "      <td>Active</td>\n",
       "      <td>30</td>\n",
       "      <td>1077.640</td>\n",
       "      <td>False</td>\n",
       "    </tr>\n",
       "    <tr>\n",
       "      <th>3149</th>\n",
       "      <td>8</td>\n",
       "      <td>True</td>\n",
       "      <td>11</td>\n",
       "      <td>2</td>\n",
       "      <td>1792</td>\n",
       "      <td>25</td>\n",
       "      <td>7</td>\n",
       "      <td>9</td>\n",
       "      <td>Prepaid</td>\n",
       "      <td>Active</td>\n",
       "      <td>30</td>\n",
       "      <td>100.680</td>\n",
       "      <td>True</td>\n",
       "    </tr>\n",
       "  </tbody>\n",
       "</table>\n",
       "<p>3150 rows × 13 columns</p>\n",
       "</div>"
      ],
      "text/plain": [
       "      call_fails  complained  sub_length  charge_amt  seconds_used  \\\n",
       "0              8       False          38           0          4370   \n",
       "1              0       False          39           0           318   \n",
       "2             10       False          37           0          2453   \n",
       "3             10       False          38           0          4198   \n",
       "4              3       False          38           0          2393   \n",
       "...          ...         ...         ...         ...           ...   \n",
       "3145          21       False          19           2          6697   \n",
       "3146          17       False          17           1          9237   \n",
       "3147          13       False          18           4          3157   \n",
       "3148           7       False          11           2          4695   \n",
       "3149           8        True          11           2          1792   \n",
       "\n",
       "      usage_freq  sms_freq  unique_contacts_called  tariff_plan    status  \\\n",
       "0             71         5                      17      Prepaid    Active   \n",
       "1              5         7                       4      Prepaid  Inactive   \n",
       "2             60       359                      24      Prepaid    Active   \n",
       "3             66         1                      35      Prepaid    Active   \n",
       "4             58         2                      33      Prepaid    Active   \n",
       "...          ...       ...                     ...          ...       ...   \n",
       "3145         147        92                      44  Contractual    Active   \n",
       "3146         177        80                      42      Prepaid    Active   \n",
       "3147          51        38                      21      Prepaid    Active   \n",
       "3148          46       222                      12      Prepaid    Active   \n",
       "3149          25         7                       9      Prepaid    Active   \n",
       "\n",
       "      age  cust_value  churn  \n",
       "0      30     197.640  False  \n",
       "1      25      46.035  False  \n",
       "2      30    1536.520  False  \n",
       "3      15     240.020  False  \n",
       "4      15     145.805  False  \n",
       "...   ...         ...    ...  \n",
       "3145   25     721.980  False  \n",
       "3146   55     261.210  False  \n",
       "3147   30     280.320  False  \n",
       "3148   30    1077.640  False  \n",
       "3149   30     100.680   True  \n",
       "\n",
       "[3150 rows x 13 columns]"
      ]
     },
     "execution_count": 4,
     "metadata": {},
     "output_type": "execute_result"
    }
   ],
   "source": [
    "df = pd.read_csv('../data/Iranian_churn_cleaned.csv')\n",
    "df"
   ]
  },
  {
   "cell_type": "markdown",
   "metadata": {},
   "source": [
    "Additional variable information:\n",
    "- call_fails: number of call failures\n",
    "- complained: bool (0: No complaint, 1: complaint)\n",
    "- sub_length: total months of subscription\n",
    "- charge_amt: Ordinal attribute (0: lowest amount, 9: highest amount)\n",
    "- seconds_used: total seconds of calls\n",
    "- usage_freq: total number of calls\n",
    "- sms_freq: total number of text messages\n",
    "- unique_contacts_called: total number of distinct phone calls\n",
    "- tariff_plan: categorical (1: Pay as you go, 2: contractual)\n",
    "- status: categorical (1: active, 2: non-active)\n",
    "- churn: bool (1: churn, 0: non-churn) - Class label\n",
    "- cust_value: The calculated value of customer"
   ]
  },
  {
   "cell_type": "code",
   "execution_count": 5,
   "metadata": {},
   "outputs": [
    {
     "name": "stdout",
     "output_type": "stream",
     "text": [
      "<class 'pandas.core.frame.DataFrame'>\n",
      "RangeIndex: 3150 entries, 0 to 3149\n",
      "Data columns (total 13 columns):\n",
      " #   Column                  Non-Null Count  Dtype  \n",
      "---  ------                  --------------  -----  \n",
      " 0   call_fails              3150 non-null   int64  \n",
      " 1   complained              3150 non-null   bool   \n",
      " 2   sub_length              3150 non-null   int64  \n",
      " 3   charge_amt              3150 non-null   int64  \n",
      " 4   seconds_used            3150 non-null   int64  \n",
      " 5   usage_freq              3150 non-null   int64  \n",
      " 6   sms_freq                3150 non-null   int64  \n",
      " 7   unique_contacts_called  3150 non-null   int64  \n",
      " 8   tariff_plan             3150 non-null   object \n",
      " 9   status                  3150 non-null   object \n",
      " 10  age                     3150 non-null   int64  \n",
      " 11  cust_value              3150 non-null   float64\n",
      " 12  churn                   3150 non-null   bool   \n",
      "dtypes: bool(2), float64(1), int64(8), object(2)\n",
      "memory usage: 277.0+ KB\n"
     ]
    }
   ],
   "source": [
    "df.info()"
   ]
  },
  {
   "cell_type": "code",
   "execution_count": 6,
   "metadata": {},
   "outputs": [
    {
     "data": {
      "text/html": [
       "<div>\n",
       "<style scoped>\n",
       "    .dataframe tbody tr th:only-of-type {\n",
       "        vertical-align: middle;\n",
       "    }\n",
       "\n",
       "    .dataframe tbody tr th {\n",
       "        vertical-align: top;\n",
       "    }\n",
       "\n",
       "    .dataframe thead th {\n",
       "        text-align: right;\n",
       "    }\n",
       "</style>\n",
       "<table border=\"1\" class=\"dataframe\">\n",
       "  <thead>\n",
       "    <tr style=\"text-align: right;\">\n",
       "      <th></th>\n",
       "      <th>call_fails</th>\n",
       "      <th>sub_length</th>\n",
       "      <th>charge_amt</th>\n",
       "      <th>seconds_used</th>\n",
       "      <th>usage_freq</th>\n",
       "      <th>sms_freq</th>\n",
       "      <th>unique_contacts_called</th>\n",
       "      <th>age</th>\n",
       "      <th>cust_value</th>\n",
       "    </tr>\n",
       "  </thead>\n",
       "  <tbody>\n",
       "    <tr>\n",
       "      <th>count</th>\n",
       "      <td>3150.000000</td>\n",
       "      <td>3150.000000</td>\n",
       "      <td>3150.000000</td>\n",
       "      <td>3150.000000</td>\n",
       "      <td>3150.000000</td>\n",
       "      <td>3150.000000</td>\n",
       "      <td>3150.000000</td>\n",
       "      <td>3150.000000</td>\n",
       "      <td>3150.000000</td>\n",
       "    </tr>\n",
       "    <tr>\n",
       "      <th>mean</th>\n",
       "      <td>7.627937</td>\n",
       "      <td>32.541905</td>\n",
       "      <td>0.942857</td>\n",
       "      <td>4472.459683</td>\n",
       "      <td>69.460635</td>\n",
       "      <td>73.174921</td>\n",
       "      <td>23.509841</td>\n",
       "      <td>30.998413</td>\n",
       "      <td>470.972916</td>\n",
       "    </tr>\n",
       "    <tr>\n",
       "      <th>std</th>\n",
       "      <td>7.263886</td>\n",
       "      <td>8.573482</td>\n",
       "      <td>1.521072</td>\n",
       "      <td>4197.908687</td>\n",
       "      <td>57.413308</td>\n",
       "      <td>112.237560</td>\n",
       "      <td>17.217337</td>\n",
       "      <td>8.831095</td>\n",
       "      <td>517.015433</td>\n",
       "    </tr>\n",
       "    <tr>\n",
       "      <th>min</th>\n",
       "      <td>0.000000</td>\n",
       "      <td>3.000000</td>\n",
       "      <td>0.000000</td>\n",
       "      <td>0.000000</td>\n",
       "      <td>0.000000</td>\n",
       "      <td>0.000000</td>\n",
       "      <td>0.000000</td>\n",
       "      <td>15.000000</td>\n",
       "      <td>0.000000</td>\n",
       "    </tr>\n",
       "    <tr>\n",
       "      <th>25%</th>\n",
       "      <td>1.000000</td>\n",
       "      <td>30.000000</td>\n",
       "      <td>0.000000</td>\n",
       "      <td>1391.250000</td>\n",
       "      <td>27.000000</td>\n",
       "      <td>6.000000</td>\n",
       "      <td>10.000000</td>\n",
       "      <td>25.000000</td>\n",
       "      <td>113.801250</td>\n",
       "    </tr>\n",
       "    <tr>\n",
       "      <th>50%</th>\n",
       "      <td>6.000000</td>\n",
       "      <td>35.000000</td>\n",
       "      <td>0.000000</td>\n",
       "      <td>2990.000000</td>\n",
       "      <td>54.000000</td>\n",
       "      <td>21.000000</td>\n",
       "      <td>21.000000</td>\n",
       "      <td>30.000000</td>\n",
       "      <td>228.480000</td>\n",
       "    </tr>\n",
       "    <tr>\n",
       "      <th>75%</th>\n",
       "      <td>12.000000</td>\n",
       "      <td>38.000000</td>\n",
       "      <td>1.000000</td>\n",
       "      <td>6478.250000</td>\n",
       "      <td>95.000000</td>\n",
       "      <td>87.000000</td>\n",
       "      <td>34.000000</td>\n",
       "      <td>30.000000</td>\n",
       "      <td>788.388750</td>\n",
       "    </tr>\n",
       "    <tr>\n",
       "      <th>max</th>\n",
       "      <td>36.000000</td>\n",
       "      <td>47.000000</td>\n",
       "      <td>10.000000</td>\n",
       "      <td>17090.000000</td>\n",
       "      <td>255.000000</td>\n",
       "      <td>522.000000</td>\n",
       "      <td>97.000000</td>\n",
       "      <td>55.000000</td>\n",
       "      <td>2165.280000</td>\n",
       "    </tr>\n",
       "  </tbody>\n",
       "</table>\n",
       "</div>"
      ],
      "text/plain": [
       "        call_fails   sub_length   charge_amt  seconds_used   usage_freq  \\\n",
       "count  3150.000000  3150.000000  3150.000000   3150.000000  3150.000000   \n",
       "mean      7.627937    32.541905     0.942857   4472.459683    69.460635   \n",
       "std       7.263886     8.573482     1.521072   4197.908687    57.413308   \n",
       "min       0.000000     3.000000     0.000000      0.000000     0.000000   \n",
       "25%       1.000000    30.000000     0.000000   1391.250000    27.000000   \n",
       "50%       6.000000    35.000000     0.000000   2990.000000    54.000000   \n",
       "75%      12.000000    38.000000     1.000000   6478.250000    95.000000   \n",
       "max      36.000000    47.000000    10.000000  17090.000000   255.000000   \n",
       "\n",
       "          sms_freq  unique_contacts_called          age   cust_value  \n",
       "count  3150.000000             3150.000000  3150.000000  3150.000000  \n",
       "mean     73.174921               23.509841    30.998413   470.972916  \n",
       "std     112.237560               17.217337     8.831095   517.015433  \n",
       "min       0.000000                0.000000    15.000000     0.000000  \n",
       "25%       6.000000               10.000000    25.000000   113.801250  \n",
       "50%      21.000000               21.000000    30.000000   228.480000  \n",
       "75%      87.000000               34.000000    30.000000   788.388750  \n",
       "max     522.000000               97.000000    55.000000  2165.280000  "
      ]
     },
     "execution_count": 6,
     "metadata": {},
     "output_type": "execute_result"
    }
   ],
   "source": [
    "df.describe()"
   ]
  },
  {
   "cell_type": "code",
   "execution_count": 7,
   "metadata": {},
   "outputs": [],
   "source": [
    "# Predefine figsize\n",
    "figsize1_1 = (8,4)\n",
    "figsize1_2 = (16, 5)"
   ]
  },
  {
   "cell_type": "markdown",
   "metadata": {},
   "source": [
    "0   call_fails\n",
    "\n",
    "1   complained\n",
    "\n",
    "2   sub_length\n",
    "\n",
    "3   charge_amt\n",
    "\n",
    "4   seconds_used\n",
    "\n",
    "5   usage_freq\n",
    "\n",
    "6   sms_freq\n",
    "\n",
    "7   unique_contacts_called\n",
    "\n",
    "8   tariff_plan\n",
    "\n",
    "9   status\n",
    "\n",
    "10  age\n",
    "\n",
    "11  cust_value\n",
    "\n",
    "12  churn"
   ]
  },
  {
   "cell_type": "markdown",
   "metadata": {},
   "source": [
    "# Univariate analysis"
   ]
  },
  {
   "cell_type": "code",
   "execution_count": 30,
   "metadata": {},
   "outputs": [],
   "source": [
    "def draw_mean_median(dataframe):\n",
    "    \"\"\"\n",
    "    Function for drawing a mean and median line.\n",
    "    Arg: df['column']\n",
    "    \"\"\"\n",
    "    plt.axvline(x=np.mean(dataframe),\n",
    "            color='red')\n",
    "    plt.axvline(x=np.median(dataframe),\n",
    "            color='green',\n",
    "            ls='--',\n",
    "            lw=1.5)"
   ]
  },
  {
   "cell_type": "code",
   "execution_count": 31,
   "metadata": {},
   "outputs": [
    {
     "data": {
      "image/png": "[encoded data removed]",
      "text/plain": [
       "<Figure size 640x480 with 1 Axes>"
      ]
     },
     "metadata": {},
     "output_type": "display_data"
    }
   ],
   "source": [
    "sns.histplot(x='call_fails', data=df)\n",
    "draw_mean_median(df['call_fails'])"
   ]
  },
  {
   "cell_type": "markdown",
   "metadata": {},
   "source": [
    "This looks like a log-normal distribution."
   ]
  },
  {
   "cell_type": "code",
   "execution_count": 32,
   "metadata": {},
   "outputs": [
    {
     "data": {
      "text/plain": [
       "<Axes: xlabel='complained', ylabel='count'>"
      ]
     },
     "execution_count": 32,
     "metadata": {},
     "output_type": "execute_result"
    },
    {
     "data": {
      "image/png": "[encoded data removed]",
      "text/plain": [
       "<Figure size 640x480 with 1 Axes>"
      ]
     },
     "metadata": {},
     "output_type": "display_data"
    }
   ],
   "source": [
    "sns.countplot(x='complained', data=df)"
   ]
  },
  {
   "cell_type": "code",
   "execution_count": 33,
   "metadata": {},
   "outputs": [
    {
     "name": "stdout",
     "output_type": "stream",
     "text": [
      "32.54190476190476\n",
      "35.0\n"
     ]
    },
    {
     "data": {
      "image/png": "[encoded data removed]",
      "text/plain": [
       "<Figure size 640x480 with 1 Axes>"
      ]
     },
     "metadata": {},
     "output_type": "display_data"
    }
   ],
   "source": [
    "sns.histplot(x='sub_length', data=df)\n",
    "\n",
    "draw_mean_median(df['sub_length'])\n",
    "\n",
    "print(np.mean(df['sub_length']))\n",
    "print(np.median(df['sub_length']))"
   ]
  },
  {
   "cell_type": "code",
   "execution_count": 34,
   "metadata": {},
   "outputs": [
    {
     "data": {
      "text/plain": [
       "<Axes: xlabel='charge_amt', ylabel='Count'>"
      ]
     },
     "execution_count": 34,
     "metadata": {},
     "output_type": "execute_result"
    },
    {
     "data": {
      "image/png": "[encoded data removed]",
      "text/plain": [
       "<Figure size 640x480 with 1 Axes>"
      ]
     },
     "metadata": {},
     "output_type": "display_data"
    }
   ],
   "source": [
    "sns.histplot(x='charge_amt', data=df)"
   ]
  },
  {
   "cell_type": "code",
   "execution_count": null,
   "metadata": {},
   "outputs": [],
   "source": []
  }
 ],
 "metadata": {
  "kernelspec": {
   "display_name": "Python 3",
   "language": "python",
   "name": "python3"
  },
  "language_info": {
   "codemirror_mode": {
    "name": "ipython",
    "version": 3
   },
   "file_extension": ".py",
   "mimetype": "text/x-python",
   "name": "python",
   "nbconvert_exporter": "python",
   "pygments_lexer": "ipython3",
   "version": "3.11.1"
  }
 },
 "nbformat": 4,
 "nbformat_minor": 2
}
